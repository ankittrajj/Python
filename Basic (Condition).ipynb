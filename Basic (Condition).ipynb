{
 "cells": [
  {
   "cell_type": "markdown",
   "id": "c6220ddc",
   "metadata": {},
   "source": [
    "# Condition "
   ]
  },
  {
   "cell_type": "code",
   "execution_count": 5,
   "id": "6429b004",
   "metadata": {},
   "outputs": [],
   "source": [
    "# if (condition):\n",
    "#     msg\n",
    "#     print()\n",
    "a=10\n",
    "b=12\n",
    "if(a>b):\n",
    "    print('False')"
   ]
  },
  {
   "cell_type": "code",
   "execution_count": 6,
   "id": "29298e9b",
   "metadata": {},
   "outputs": [
    {
     "name": "stdout",
     "output_type": "stream",
     "text": [
      "hello\n"
     ]
    }
   ],
   "source": [
    "z=12\n",
    "x=10\n",
    "if (z>x):\n",
    "    print('hello')"
   ]
  },
  {
   "cell_type": "code",
   "execution_count": 11,
   "id": "a07e8091",
   "metadata": {},
   "outputs": [
    {
     "name": "stdout",
     "output_type": "stream",
     "text": [
      "tum bacche ho\n"
     ]
    }
   ],
   "source": [
    "age=20\n",
    "if (age>20):\n",
    "    print(\"Adult\")\n",
    "else:\n",
    "    print(\"tum bacche ho\")"
   ]
  },
  {
   "cell_type": "code",
   "execution_count": 23,
   "id": "66ab0b3a",
   "metadata": {},
   "outputs": [
    {
     "name": "stdout",
     "output_type": "stream",
     "text": [
      "kids op\n"
     ]
    }
   ],
   "source": [
    "age = 19\n",
    "if(age>=20):\n",
    "    print(\"Adult ho bhai not op\")\n",
    "elif(age==18):\n",
    "    print(\"New voter op \")\n",
    "else:\n",
    "    print(\"kids op\")"
   ]
  },
  {
   "cell_type": "code",
   "execution_count": 28,
   "id": "dd907d4b",
   "metadata": {},
   "outputs": [
    {
     "name": "stdout",
     "output_type": "stream",
     "text": [
      "Enter the no100\n",
      "Enter the no23\n",
      "Enter the no-34\n",
      "100\n"
     ]
    }
   ],
   "source": [
    "#WAP take a input from user and store the marks in a variable & tell him his division \n",
    "#WAP take a input from user & find max. of 3 numbers\n",
    "# WAP take a input from user & find min. of 3 numbers\n",
    "#mAX\n",
    "a=int(input(\"Enter the no\"))\n",
    "b=int(input(\"Enter the no\"))\n",
    "c=int(input(\"Enter the no\"))\n",
    "if (a>b and a>c):\n",
    "    print(a)\n",
    "elif(b>a and b>c):\n",
    "    print(b)\n",
    "else:\n",
    "    print(c)"
   ]
  },
  {
   "cell_type": "code",
   "execution_count": 27,
   "id": "1725e617",
   "metadata": {},
   "outputs": [
    {
     "name": "stdout",
     "output_type": "stream",
     "text": [
      "1\n"
     ]
    }
   ],
   "source": [
    "#min\n",
    "a=1\n",
    "b=2\n",
    "c=3\n",
    "if (a<b and a<c):\n",
    "    print(a)\n",
    "elif(b<a and b<c):\n",
    "    print(b)\n",
    "else:\n",
    "    print(c)"
   ]
  },
  {
   "cell_type": "code",
   "execution_count": 29,
   "id": "e4186eb0",
   "metadata": {},
   "outputs": [],
   "source": [
    "#String\n",
    "a = 'fegfier!@@##$1234343'"
   ]
  },
  {
   "cell_type": "code",
   "execution_count": 30,
   "id": "1da404c2",
   "metadata": {},
   "outputs": [
    {
     "name": "stdout",
     "output_type": "stream",
     "text": [
      "fegfier!@@##$1234343\n"
     ]
    }
   ],
   "source": [
    "print(a)"
   ]
  },
  {
   "cell_type": "code",
   "execution_count": 31,
   "id": "f586f8fd",
   "metadata": {},
   "outputs": [
    {
     "data": {
      "text/plain": [
       "str"
      ]
     },
     "execution_count": 31,
     "metadata": {},
     "output_type": "execute_result"
    }
   ],
   "source": [
    "type(a)"
   ]
  },
  {
   "cell_type": "code",
   "execution_count": 32,
   "id": "ef8c81cd",
   "metadata": {},
   "outputs": [],
   "source": [
    "a= 'Adarsh'"
   ]
  },
  {
   "cell_type": "code",
   "execution_count": 33,
   "id": "961293ad",
   "metadata": {},
   "outputs": [
    {
     "name": "stdout",
     "output_type": "stream",
     "text": [
      "Adarsh\n"
     ]
    }
   ],
   "source": [
    "print(a)"
   ]
  },
  {
   "cell_type": "code",
   "execution_count": 37,
   "id": "cfba9309",
   "metadata": {},
   "outputs": [
    {
     "name": "stdout",
     "output_type": "stream",
     "text": [
      "6\n"
     ]
    }
   ],
   "source": [
    "a= len('Adarsh')\n",
    "print(a)"
   ]
  },
  {
   "cell_type": "code",
   "execution_count": 40,
   "id": "5dd734f4",
   "metadata": {},
   "outputs": [],
   "source": [
    "x = 'ankit'"
   ]
  },
  {
   "cell_type": "code",
   "execution_count": 41,
   "id": "031b5da1",
   "metadata": {},
   "outputs": [
    {
     "data": {
      "text/plain": [
       "5"
      ]
     },
     "execution_count": 41,
     "metadata": {},
     "output_type": "execute_result"
    }
   ],
   "source": [
    "len(x)"
   ]
  },
  {
   "cell_type": "code",
   "execution_count": 46,
   "id": "1a38b124",
   "metadata": {},
   "outputs": [
    {
     "name": "stdout",
     "output_type": "stream",
     "text": [
      "\n"
     ]
    }
   ],
   "source": [
    "print()"
   ]
  },
  {
   "cell_type": "code",
   "execution_count": null,
   "id": "3766e867",
   "metadata": {},
   "outputs": [],
   "source": []
  }
 ],
 "metadata": {
  "kernelspec": {
   "display_name": "Python 3",
   "language": "python",
   "name": "python3"
  },
  "language_info": {
   "codemirror_mode": {
    "name": "ipython",
    "version": 3
   },
   "file_extension": ".py",
   "mimetype": "text/x-python",
   "name": "python",
   "nbconvert_exporter": "python",
   "pygments_lexer": "ipython3",
   "version": "3.8.8"
  }
 },
 "nbformat": 4,
 "nbformat_minor": 5
}
