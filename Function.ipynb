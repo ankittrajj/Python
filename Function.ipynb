{
 "cells": [
  {
   "cell_type": "code",
   "execution_count": 3,
   "id": "3cfe3dff",
   "metadata": {},
   "outputs": [],
   "source": [
    "def read():\n",
    "    print('I am reading')\n",
    "    print(\"This is my function\")"
   ]
  },
  {
   "cell_type": "code",
   "execution_count": 4,
   "id": "14dd10ae",
   "metadata": {},
   "outputs": [
    {
     "name": "stdout",
     "output_type": "stream",
     "text": [
      "I am reading\n",
      "This is my function\n"
     ]
    }
   ],
   "source": [
    "read()"
   ]
  },
  {
   "cell_type": "code",
   "execution_count": 6,
   "id": "51b0be4b",
   "metadata": {},
   "outputs": [
    {
     "name": "stdout",
     "output_type": "stream",
     "text": [
      "function\n"
     ]
    }
   ],
   "source": [
    "def msg ():\n",
    "    print(\"function\")\n",
    "msg()"
   ]
  },
  {
   "cell_type": "code",
   "execution_count": 9,
   "id": "6a4a31a1",
   "metadata": {},
   "outputs": [
    {
     "name": "stdout",
     "output_type": "stream",
     "text": [
      "I am reading\n",
      "This is my function\n",
      "I am reading\n",
      "This is my function\n",
      "I am reading\n",
      "This is my function\n"
     ]
    }
   ],
   "source": [
    "read()\n",
    "read()\n",
    "read()"
   ]
  },
  {
   "cell_type": "code",
   "execution_count": 11,
   "id": "b254a2ab",
   "metadata": {},
   "outputs": [
    {
     "name": "stdout",
     "output_type": "stream",
     "text": [
      "3\n"
     ]
    }
   ],
   "source": [
    "# # type of function\n",
    "# 1.no return no argument\n",
    "# 2.no return with argument\n",
    "# 3.with return with argument\n",
    "# 4.with return no argument\n",
    "\n",
    "\n",
    "\n",
    "# no return no arg\n",
    "def add():\n",
    "    a= 1\n",
    "    b=2\n",
    "    result = (a+b)\n",
    "    print(result)\n",
    "add()"
   ]
  },
  {
   "cell_type": "code",
   "execution_count": 12,
   "id": "1e1a4c0e",
   "metadata": {},
   "outputs": [
    {
     "name": "stdout",
     "output_type": "stream",
     "text": [
      "30\n"
     ]
    }
   ],
   "source": [
    "# with arg no return\n",
    "def function_add(a,b):\n",
    "    result = a+b\n",
    "    print(result)\n",
    "    \n",
    "#  calling the function   \n",
    "function_add(10,20)"
   ]
  },
  {
   "cell_type": "code",
   "execution_count": 15,
   "id": "6cc7f935",
   "metadata": {},
   "outputs": [
    {
     "data": {
      "text/plain": [
       "8"
      ]
     },
     "execution_count": 15,
     "metadata": {},
     "output_type": "execute_result"
    }
   ],
   "source": [
    "#with return with arg\n",
    "def add_num(x,y):\n",
    "    result = x+y\n",
    "#     using return keyword\n",
    "    return result\n",
    "\n",
    "# Calling the function\n",
    "add_num(3,5)"
   ]
  },
  {
   "cell_type": "code",
   "execution_count": 20,
   "id": "2ea88c7c",
   "metadata": {},
   "outputs": [
    {
     "name": "stdout",
     "output_type": "stream",
     "text": [
      "30\n"
     ]
    },
    {
     "data": {
      "text/plain": [
       "30"
      ]
     },
     "execution_count": 20,
     "metadata": {},
     "output_type": "execute_result"
    }
   ],
   "source": [
    "#with return no arg\n",
    "def add():\n",
    "    a = 20\n",
    "    b=  20\n",
    "#     result = a+b\n",
    "# using return function\n",
    "    return (10+20)\n",
    "print(10+20)\n",
    "add()"
   ]
  },
  {
   "cell_type": "code",
   "execution_count": 21,
   "id": "e1cd7f59",
   "metadata": {},
   "outputs": [
    {
     "name": "stdout",
     "output_type": "stream",
     "text": [
      "3\n"
     ]
    }
   ],
   "source": [
    "print(1+2)"
   ]
  },
  {
   "cell_type": "code",
   "execution_count": 22,
   "id": "4ab0e615",
   "metadata": {},
   "outputs": [
    {
     "ename": "SyntaxError",
     "evalue": "'return' outside function (<ipython-input-22-41074bdbe3c6>, line 1)",
     "output_type": "error",
     "traceback": [
      "\u001b[1;36m  File \u001b[1;32m\"<ipython-input-22-41074bdbe3c6>\"\u001b[1;36m, line \u001b[1;32m1\u001b[0m\n\u001b[1;33m    return (1+2)\u001b[0m\n\u001b[1;37m    ^\u001b[0m\n\u001b[1;31mSyntaxError\u001b[0m\u001b[1;31m:\u001b[0m 'return' outside function\n"
     ]
    }
   ],
   "source": [
    "return (1+2)"
   ]
  },
  {
   "cell_type": "code",
   "execution_count": 27,
   "id": "57455dfc",
   "metadata": {},
   "outputs": [
    {
     "data": {
      "text/plain": [
       "32"
      ]
     },
     "execution_count": 27,
     "metadata": {},
     "output_type": "execute_result"
    }
   ],
   "source": [
    "# WAP and find elder and youngest among 3 \n",
    "# people with the help of function\n",
    "def age(a,b,c):\n",
    "#     a='Ramesh'\n",
    "#     b='Ram'\n",
    "#     c=23\n",
    "    if (a>b and a>c):\n",
    "        return a\n",
    "    elif(b>a and b>c):\n",
    "        return b\n",
    "    else:\n",
    "        return c\n",
    "age(10,12,32)\n",
    "        "
   ]
  },
  {
   "cell_type": "code",
   "execution_count": 28,
   "id": "ea2bd46d",
   "metadata": {},
   "outputs": [
    {
     "data": {
      "text/plain": [
       "10"
      ]
     },
     "execution_count": 28,
     "metadata": {},
     "output_type": "execute_result"
    }
   ],
   "source": [
    "# WAP and find elder and youngest among 3 \n",
    "# people with the help of function\n",
    "def age(a,b,c):\n",
    "#     a='Ramesh'\n",
    "#     b='Ram'\n",
    "#     c=23\n",
    "    if (a<b and a<c):\n",
    "        return a\n",
    "    elif(b<a and b<c):\n",
    "        return b\n",
    "    else:\n",
    "        return c\n",
    "age(10,12,32)\n",
    "        "
   ]
  },
  {
   "cell_type": "code",
   "execution_count": null,
   "id": "afdc6b2f",
   "metadata": {},
   "outputs": [],
   "source": []
  }
 ],
 "metadata": {
  "kernelspec": {
   "display_name": "Python 3",
   "language": "python",
   "name": "python3"
  },
  "language_info": {
   "codemirror_mode": {
    "name": "ipython",
    "version": 3
   },
   "file_extension": ".py",
   "mimetype": "text/x-python",
   "name": "python",
   "nbconvert_exporter": "python",
   "pygments_lexer": "ipython3",
   "version": "3.8.8"
  }
 },
 "nbformat": 4,
 "nbformat_minor": 5
}
