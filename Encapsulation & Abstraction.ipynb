{
 "cells": [
  {
   "cell_type": "code",
   "execution_count": 31,
   "id": "c617c2a6",
   "metadata": {},
   "outputs": [
    {
     "ename": "AttributeError",
     "evalue": "'student' object has no attribute 'me'",
     "output_type": "error",
     "traceback": [
      "\u001b[1;31m---------------------------------------------------------------------------\u001b[0m",
      "\u001b[1;31mAttributeError\u001b[0m                            Traceback (most recent call last)",
      "\u001b[1;32m~\\AppData\\Local\\Temp/ipykernel_9432/3687455576.py\u001b[0m in \u001b[0;36m<module>\u001b[1;34m\u001b[0m\n\u001b[0;32m      7\u001b[0m \u001b[1;33m\u001b[0m\u001b[0m\n\u001b[0;32m      8\u001b[0m \u001b[0ms\u001b[0m \u001b[1;33m=\u001b[0m \u001b[0mstudent\u001b[0m\u001b[1;33m(\u001b[0m\u001b[1;33m)\u001b[0m\u001b[1;33m\u001b[0m\u001b[1;33m\u001b[0m\u001b[0m\n\u001b[1;32m----> 9\u001b[1;33m \u001b[0ms\u001b[0m\u001b[1;33m.\u001b[0m\u001b[0mme\u001b[0m\u001b[1;33m(\u001b[0m\u001b[1;33m)\u001b[0m\u001b[1;33m\u001b[0m\u001b[1;33m\u001b[0m\u001b[0m\n\u001b[0m",
      "\u001b[1;31mAttributeError\u001b[0m: 'student' object has no attribute 'me'"
     ]
    }
   ],
   "source": [
    "# Encapsulation------> Hiding the data from the user/wrapping up data\n",
    "class student:\n",
    "    __a=10\n",
    "    def __me(self):\n",
    "        print(self.a)\n",
    "#     me()\n",
    "        \n",
    "s = student()\n",
    "s.me()\n"
   ]
  },
  {
   "cell_type": "code",
   "execution_count": 32,
   "id": "66b7c59d",
   "metadata": {},
   "outputs": [],
   "source": [
    "#Abstraction----->1. which have abstract method\n",
    "#abstract method ---->2.method with declaration but \n",
    "# not the defenition\n",
    "# 3. to obtain abstraction in python we have to import the modules\n",
    "# called ABC and abstract method."
   ]
  },
  {
   "cell_type": "code",
   "execution_count": 57,
   "id": "7917bd70",
   "metadata": {},
   "outputs": [
    {
     "name": "stdout",
     "output_type": "stream",
     "text": [
      "Abstract method\n"
     ]
    }
   ],
   "source": [
    "#import modules\n",
    "from abc import ABC,abstractmethod\n",
    "# \n",
    "class abstract_demo(ABC):\n",
    "    @abstractmethod\n",
    "    def display(self):\n",
    "        None\n",
    "        \n",
    "class demo2(abstract_demo):\n",
    "#     @abstractmethod\n",
    "    def display(self):\n",
    "        print(\"Abstract method\")\n",
    "        \n",
    "        \n",
    "x = demo2()\n",
    "x.display()"
   ]
  },
  {
   "cell_type": "code",
   "execution_count": 63,
   "id": "26712a6a",
   "metadata": {},
   "outputs": [
    {
     "name": "stdout",
     "output_type": "stream",
     "text": [
      "Turbo engine\n"
     ]
    }
   ],
   "source": [
    "from abc import ABC,abstractmethod\n",
    "class car():\n",
    "    @abstractmethod\n",
    "    def detail(self):\n",
    "        None\n",
    "        \n",
    "class car2(car):\n",
    "    def detail2(self):\n",
    "        None\n",
    "        \n",
    "class engine(car2):\n",
    "    def detail3(self):\n",
    "        print(\"Turbo engine\")\n",
    "        \n",
    "    \n",
    "c = engine()\n",
    "c.detail3()"
   ]
  },
  {
   "cell_type": "code",
   "execution_count": null,
   "id": "49f96525",
   "metadata": {},
   "outputs": [],
   "source": []
  }
 ],
 "metadata": {
  "kernelspec": {
   "display_name": "Python 3 (ipykernel)",
   "language": "python",
   "name": "python3"
  },
  "language_info": {
   "codemirror_mode": {
    "name": "ipython",
    "version": 3
   },
   "file_extension": ".py",
   "mimetype": "text/x-python",
   "name": "python",
   "nbconvert_exporter": "python",
   "pygments_lexer": "ipython3",
   "version": "3.9.7"
  }
 },
 "nbformat": 4,
 "nbformat_minor": 5
}
