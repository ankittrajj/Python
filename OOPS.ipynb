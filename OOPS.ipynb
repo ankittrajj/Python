{
 "cells": [
  {
   "cell_type": "markdown",
   "id": "1fd70284",
   "metadata": {},
   "source": [
    "# OOPS\n",
    "# Object Oriented Programming Structure\n",
    "\n",
    "# Class\n",
    "# Object\n",
    "# Inheritance\n",
    "# Abstraction\n",
    "# Encapsulation\n",
    "# Polymorphism"
   ]
  },
  {
   "cell_type": "code",
   "execution_count": 4,
   "id": "1db37529",
   "metadata": {},
   "outputs": [
    {
     "name": "stdout",
     "output_type": "stream",
     "text": [
      "Black Audi Q4\n"
     ]
    }
   ],
   "source": [
    "#class\n",
    "class car:\n",
    "    def __init__(self,color,model,name):\n",
    "        self.color = color\n",
    "        self.model = model\n",
    "        self.name = name\n",
    "        \n",
    "c = car('Black','Q4','Audi')\n",
    "print(c.color,c.name,c.model)"
   ]
  },
  {
   "cell_type": "code",
   "execution_count": 6,
   "id": "1f5b3cdd",
   "metadata": {},
   "outputs": [
    {
     "name": "stdout",
     "output_type": "stream",
     "text": [
      "X\n"
     ]
    }
   ],
   "source": [
    "class student:\n",
    "    def __init__(self,name,marks,addr):\n",
    "        self.name= name\n",
    "        self.marks= marks\n",
    "        self.addr = addr\n",
    "        \n",
    "s1 = student('X',22,'Bhopal')\n",
    "print(s1.name)"
   ]
  },
  {
   "cell_type": "code",
   "execution_count": 7,
   "id": "898bb0c3",
   "metadata": {},
   "outputs": [
    {
     "name": "stdout",
     "output_type": "stream",
     "text": [
      "Y\n"
     ]
    }
   ],
   "source": [
    "s2 = student('Y',32,'UP')\n",
    "print(s2.name)"
   ]
  },
  {
   "cell_type": "code",
   "execution_count": 3,
   "id": "9469ce56",
   "metadata": {},
   "outputs": [
    {
     "name": "stdout",
     "output_type": "stream",
     "text": [
      "<__main__.car object at 0x0000028471254C70>\n"
     ]
    }
   ],
   "source": [
    "class car(object):\n",
    "    pass\n",
    "\n",
    "c = car()\n",
    "print(c)"
   ]
  },
  {
   "cell_type": "code",
   "execution_count": 17,
   "id": "494400ec",
   "metadata": {},
   "outputs": [
    {
     "name": "stdout",
     "output_type": "stream",
     "text": [
      "hello bhai\n"
     ]
    }
   ],
   "source": [
    "class car :\n",
    "    def xyz(self):\n",
    "        print(\"hello bhai\")\n",
    "#         xyz()\n",
    "        \n",
    "\n",
    "# xyz()\n",
    "c = car()\n",
    "c.xyz()\n",
    "# xyz()\n",
    "\n",
    "# print(c)"
   ]
  },
  {
   "cell_type": "code",
   "execution_count": 15,
   "id": "10c6b7e7",
   "metadata": {},
   "outputs": [
    {
     "ename": "IndentationError",
     "evalue": "expected an indented block (Temp/ipykernel_7356/1004237445.py, line 1)",
     "output_type": "error",
     "traceback": [
      "\u001b[1;36m  File \u001b[1;32m\"C:\\Users\\ddugky\\AppData\\Local\\Temp/ipykernel_7356/1004237445.py\"\u001b[1;36m, line \u001b[1;32m1\u001b[0m\n\u001b[1;33m    def car():\u001b[0m\n\u001b[1;37m              ^\u001b[0m\n\u001b[1;31mIndentationError\u001b[0m\u001b[1;31m:\u001b[0m expected an indented block\n"
     ]
    }
   ],
   "source": [
    "def car():"
   ]
  },
  {
   "cell_type": "code",
   "execution_count": 22,
   "id": "f40ab548",
   "metadata": {},
   "outputs": [
    {
     "name": "stdout",
     "output_type": "stream",
     "text": [
      "Ankit 32 New Delhi\n"
     ]
    }
   ],
   "source": [
    "class student:\n",
    "    def detail(self,name,marks,addr):\n",
    "        print(name,marks,addr)\n",
    "        \n",
    "stu = student()\n",
    "stu.detail('Ankit',32,'New Delhi')"
   ]
  },
  {
   "cell_type": "code",
   "execution_count": 29,
   "id": "54b28599",
   "metadata": {},
   "outputs": [
    {
     "name": "stdout",
     "output_type": "stream",
     "text": [
      "enter length2\n",
      "enter breadth3\n",
      "6\n"
     ]
    }
   ],
   "source": [
    "class st:\n",
    " def m(self):\n",
    "#   self.l=l\n",
    "#   self.b=b\n",
    "  l=int(input(\"enter length\"))\n",
    "  b=int(input(\"enter breadth\"))\n",
    "  print(l*b)\n",
    "s=st()\n",
    "s.m()\n"
   ]
  },
  {
   "cell_type": "code",
   "execution_count": null,
   "id": "ee2316bd",
   "metadata": {},
   "outputs": [],
   "source": []
  }
 ],
 "metadata": {
  "kernelspec": {
   "display_name": "Python 3 (ipykernel)",
   "language": "python",
   "name": "python3"
  },
  "language_info": {
   "codemirror_mode": {
    "name": "ipython",
    "version": 3
   },
   "file_extension": ".py",
   "mimetype": "text/x-python",
   "name": "python",
   "nbconvert_exporter": "python",
   "pygments_lexer": "ipython3",
   "version": "3.9.7"
  }
 },
 "nbformat": 4,
 "nbformat_minor": 5
}
