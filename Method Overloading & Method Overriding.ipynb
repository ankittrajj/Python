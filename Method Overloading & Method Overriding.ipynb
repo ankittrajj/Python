{
 "cells": [
  {
   "cell_type": "code",
   "execution_count": 6,
   "id": "53973077",
   "metadata": {},
   "outputs": [
    {
     "ename": "TypeError",
     "evalue": "__init__() takes 3 positional arguments but 5 were given",
     "output_type": "error",
     "traceback": [
      "\u001b[1;31m---------------------------------------------------------------------------\u001b[0m",
      "\u001b[1;31mTypeError\u001b[0m                                 Traceback (most recent call last)",
      "\u001b[1;32m~\\AppData\\Local\\Temp/ipykernel_860/821986412.py\u001b[0m in \u001b[0;36m<module>\u001b[1;34m\u001b[0m\n\u001b[0;32m     12\u001b[0m         \u001b[0mself\u001b[0m\u001b[1;33m.\u001b[0m\u001b[0maddr\u001b[0m \u001b[1;33m=\u001b[0m \u001b[0maddr\u001b[0m\u001b[1;33m\u001b[0m\u001b[1;33m\u001b[0m\u001b[0m\n\u001b[0;32m     13\u001b[0m \u001b[1;33m\u001b[0m\u001b[0m\n\u001b[1;32m---> 14\u001b[1;33m \u001b[0mstu\u001b[0m \u001b[1;33m=\u001b[0m \u001b[0mstudent2\u001b[0m\u001b[1;33m(\u001b[0m\u001b[1;34m'Abc'\u001b[0m\u001b[1;33m,\u001b[0m\u001b[1;36m22\u001b[0m\u001b[1;33m,\u001b[0m\u001b[1;36m34\u001b[0m\u001b[1;33m,\u001b[0m\u001b[1;34m'UP'\u001b[0m\u001b[1;33m)\u001b[0m\u001b[1;33m\u001b[0m\u001b[1;33m\u001b[0m\u001b[0m\n\u001b[0m\u001b[0;32m     15\u001b[0m \u001b[0mstu\u001b[0m\u001b[1;33m.\u001b[0m\u001b[0mname\u001b[0m\u001b[1;33m\u001b[0m\u001b[1;33m\u001b[0m\u001b[0m\n",
      "\u001b[1;31mTypeError\u001b[0m: __init__() takes 3 positional arguments but 5 were given"
     ]
    }
   ],
   "source": [
    "#method overloading & overriding\n",
    "class student1:\n",
    "    def __init__(self,name,marks):\n",
    "        self.name = name\n",
    "        self.marks = marks\n",
    "        \n",
    "        \n",
    "class student2(student1):\n",
    "    def __init__(self,age,addr):\n",
    "#         super().__init__(name,marks)\n",
    "        self.age = age\n",
    "        self.addr = addr\n",
    "        \n",
    "stu = student2('Abc',22,34,'UP')\n",
    "stu.name"
   ]
  },
  {
   "cell_type": "code",
   "execution_count": 7,
   "id": "53f2cd71",
   "metadata": {},
   "outputs": [
    {
     "name": "stdout",
     "output_type": "stream",
     "text": [
      "4\n"
     ]
    }
   ],
   "source": [
    "#methodload\n",
    "# same function + different number of arguments\n",
    "# + operetor \n",
    "\n",
    "a=2\n",
    "b=2\n",
    "print(a+b)"
   ]
  },
  {
   "cell_type": "code",
   "execution_count": 8,
   "id": "678cd801",
   "metadata": {},
   "outputs": [
    {
     "name": "stdout",
     "output_type": "stream",
     "text": [
      "23\n"
     ]
    }
   ],
   "source": [
    "a='2'\n",
    "b='3'\n",
    "print(a+b)"
   ]
  },
  {
   "cell_type": "code",
   "execution_count": 9,
   "id": "f035ab7c",
   "metadata": {},
   "outputs": [
    {
     "name": "stdout",
     "output_type": "stream",
     "text": [
      "hello\n"
     ]
    }
   ],
   "source": [
    "#method\n",
    "def show():\n",
    "    print('hello')\n",
    "    \n",
    "show()"
   ]
  },
  {
   "cell_type": "code",
   "execution_count": 42,
   "id": "72bc46fe",
   "metadata": {},
   "outputs": [
    {
     "name": "stdout",
     "output_type": "stream",
     "text": [
      "44 77\n"
     ]
    }
   ],
   "source": [
    "class show:\n",
    "    def me (self,a=34,b=77):\n",
    "#         pass\n",
    "        print(a,b)\n",
    "        \n",
    "x = show ()\n",
    "# x.me()\n",
    "x.me(44)\n",
    "# x.me(10,20)"
   ]
  },
  {
   "cell_type": "code",
   "execution_count": 43,
   "id": "5e4bbe20",
   "metadata": {},
   "outputs": [
    {
     "name": "stdout",
     "output_type": "stream",
     "text": [
      "12 20\n",
      "222 20\n",
      "-1 2\n"
     ]
    }
   ],
   "source": [
    "class car:\n",
    "    def detail(self,x=12,y=20):\n",
    "        print(x,y)\n",
    "        \n",
    "c = car()\n",
    "c.detail()\n",
    "c.detail(222)\n",
    "# c.detail(,333)\n",
    "c.detail(1,2)"
   ]
  },
  {
   "cell_type": "code",
   "execution_count": 51,
   "id": "cd4c6d9a",
   "metadata": {},
   "outputs": [
    {
     "name": "stdout",
     "output_type": "stream",
     "text": [
      "ABC\n"
     ]
    }
   ],
   "source": [
    "#overriding\n",
    "class car1:\n",
    "    def __init__(self,name,color):\n",
    "        self.name=name\n",
    "        self.color = color\n",
    "        \n",
    "#         print(name)\n",
    "#         print(color)\n",
    "        \n",
    "class car2(car1):\n",
    "    def __init__(self,name,color):\n",
    "        super().__init__(name,color)\n",
    "#         pass\n",
    "#         print(name)\n",
    "#         print(color)\n",
    "    \n",
    "c = car2('ABC','blue')\n",
    "print(c.name)\n",
    "# c.detail2()\n",
    "# print"
   ]
  },
  {
   "cell_type": "code",
   "execution_count": null,
   "id": "bb2bd510",
   "metadata": {},
   "outputs": [],
   "source": []
  }
 ],
 "metadata": {
  "kernelspec": {
   "display_name": "Python 3 (ipykernel)",
   "language": "python",
   "name": "python3"
  },
  "language_info": {
   "codemirror_mode": {
    "name": "ipython",
    "version": 3
   },
   "file_extension": ".py",
   "mimetype": "text/x-python",
   "name": "python",
   "nbconvert_exporter": "python",
   "pygments_lexer": "ipython3",
   "version": "3.9.7"
  }
 },
 "nbformat": 4,
 "nbformat_minor": 5
}
