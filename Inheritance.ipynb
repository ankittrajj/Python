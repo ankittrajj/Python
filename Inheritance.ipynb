{
 "cells": [
  {
   "cell_type": "code",
   "execution_count": 6,
   "id": "cbe1f395",
   "metadata": {},
   "outputs": [
    {
     "name": "stdout",
     "output_type": "stream",
     "text": [
      "Child class\n",
      "Parent class\n"
     ]
    }
   ],
   "source": [
    "#inheritance\n",
    "\n",
    "class parent:\n",
    "    def show(self):\n",
    "        print(\"Parent class\")\n",
    "        \n",
    "        \n",
    "class child(parent):\n",
    "    def show_me(self):\n",
    "        print(\"Child class\")\n",
    "        \n",
    "# c = parent()\n",
    "s = child()\n",
    "s.show_me()\n",
    "s.show()\n",
    "# c.show()"
   ]
  },
  {
   "cell_type": "code",
   "execution_count": 7,
   "id": "41e4b195",
   "metadata": {},
   "outputs": [
    {
     "name": "stdout",
     "output_type": "stream",
     "text": [
      "Mycar\n",
      "Truck\n"
     ]
    }
   ],
   "source": [
    "class car:\n",
    "    def detail(self):\n",
    "        print(\"Mycar\")\n",
    "        \n",
    "class truck(car):\n",
    "    def t_detail(self):\n",
    "        print(\"Truck\")\n",
    "        \n",
    "        \n",
    "t = truck()\n",
    "t.detail()\n",
    "t.t_detail()"
   ]
  },
  {
   "cell_type": "code",
   "execution_count": 11,
   "id": "9174c320",
   "metadata": {},
   "outputs": [
    {
     "name": "stdout",
     "output_type": "stream",
     "text": [
      "super truck\n",
      "super car\n"
     ]
    }
   ],
   "source": [
    "class car:\n",
    "  def vehicle(self):\n",
    "    print(\"super car\")\n",
    "class truck(car):\n",
    "  def vehicle1(self):\n",
    "    print(\"super truck\")\n",
    "v1=truck()\n",
    "v1.vehicle1()\n",
    "v1.vehicle()\n"
   ]
  },
  {
   "cell_type": "code",
   "execution_count": 20,
   "id": "006b42a2",
   "metadata": {},
   "outputs": [
    {
     "name": "stdout",
     "output_type": "stream",
     "text": [
      "Red A6\n"
     ]
    }
   ],
   "source": [
    "class car:\n",
    "    def __init__(self,color,model):\n",
    "        self.color = color\n",
    "        self.model = model\n",
    "        \n",
    "        \n",
    "        \n",
    "class truck(car):\n",
    "    pass\n",
    "#     def __init__(self):\n",
    "#         self.color = color\n",
    "#         self.model =model\n",
    "        \n",
    "c = truck('Red','A6')\n",
    "print(c.color,c.model)"
   ]
  },
  {
   "cell_type": "code",
   "execution_count": 26,
   "id": "50c0e8cf",
   "metadata": {},
   "outputs": [
    {
     "name": "stdout",
     "output_type": "stream",
     "text": [
      "20 Black\n"
     ]
    }
   ],
   "source": [
    "class car:\n",
    "    def __init__(self,brand,color):\n",
    "        self.brand = brand\n",
    "        self.color = color\n",
    "        \n",
    "        \n",
    "class truck(car):\n",
    "    def __init__(self,brand,color,price):\n",
    "        super().__init__(brand,color)\n",
    "        self.price = price\n",
    "        \n",
    "        \n",
    "a = truck('A6','Black',20)\n",
    "print(a.price,a.color)\n"
   ]
  },
  {
   "cell_type": "code",
   "execution_count": null,
   "id": "71d7e8b5",
   "metadata": {},
   "outputs": [],
   "source": []
  }
 ],
 "metadata": {
  "kernelspec": {
   "display_name": "Python 3 (ipykernel)",
   "language": "python",
   "name": "python3"
  },
  "language_info": {
   "codemirror_mode": {
    "name": "ipython",
    "version": 3
   },
   "file_extension": ".py",
   "mimetype": "text/x-python",
   "name": "python",
   "nbconvert_exporter": "python",
   "pygments_lexer": "ipython3",
   "version": "3.9.7"
  }
 },
 "nbformat": 4,
 "nbformat_minor": 5
}
