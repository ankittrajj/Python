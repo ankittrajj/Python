{
 "cells": [
  {
   "cell_type": "code",
   "execution_count": 1,
   "id": "3d8bfe26",
   "metadata": {},
   "outputs": [],
   "source": [
    "a={\"name\":'Manohar',\n",
    "  \"age\":21,\n",
    "  'city':'UP'}"
   ]
  },
  {
   "cell_type": "code",
   "execution_count": 2,
   "id": "bbdb9059",
   "metadata": {},
   "outputs": [
    {
     "name": "stdout",
     "output_type": "stream",
     "text": [
      "{'name': 'Manohar', 'age': 21, 'city': 'UP'}\n"
     ]
    }
   ],
   "source": [
    "print(a)"
   ]
  },
  {
   "cell_type": "code",
   "execution_count": 3,
   "id": "7533ef47",
   "metadata": {},
   "outputs": [
    {
     "data": {
      "text/plain": [
       "dict"
      ]
     },
     "execution_count": 3,
     "metadata": {},
     "output_type": "execute_result"
    }
   ],
   "source": [
    "type(a)"
   ]
  },
  {
   "cell_type": "code",
   "execution_count": 4,
   "id": "a99337e4",
   "metadata": {},
   "outputs": [],
   "source": [
    "x={}"
   ]
  },
  {
   "cell_type": "code",
   "execution_count": 5,
   "id": "5fbc388b",
   "metadata": {},
   "outputs": [
    {
     "data": {
      "text/plain": [
       "{}"
      ]
     },
     "execution_count": 5,
     "metadata": {},
     "output_type": "execute_result"
    }
   ],
   "source": [
    "x"
   ]
  },
  {
   "cell_type": "code",
   "execution_count": 6,
   "id": "0b002d77",
   "metadata": {},
   "outputs": [
    {
     "data": {
      "text/plain": [
       "dict"
      ]
     },
     "execution_count": 6,
     "metadata": {},
     "output_type": "execute_result"
    }
   ],
   "source": [
    "type(x)"
   ]
  },
  {
   "cell_type": "code",
   "execution_count": 7,
   "id": "86e3e8e3",
   "metadata": {},
   "outputs": [],
   "source": [
    "x = {1}"
   ]
  },
  {
   "cell_type": "code",
   "execution_count": 8,
   "id": "46552d89",
   "metadata": {},
   "outputs": [
    {
     "name": "stdout",
     "output_type": "stream",
     "text": [
      "{1}\n"
     ]
    }
   ],
   "source": [
    "print(x)"
   ]
  },
  {
   "cell_type": "code",
   "execution_count": 9,
   "id": "d73855d7",
   "metadata": {},
   "outputs": [
    {
     "data": {
      "text/plain": [
       "set"
      ]
     },
     "execution_count": 9,
     "metadata": {},
     "output_type": "execute_result"
    }
   ],
   "source": [
    "type(x)"
   ]
  },
  {
   "cell_type": "code",
   "execution_count": 10,
   "id": "e6a7abf4",
   "metadata": {},
   "outputs": [],
   "source": [
    "x = {2,}"
   ]
  },
  {
   "cell_type": "code",
   "execution_count": 11,
   "id": "6ea49ba5",
   "metadata": {},
   "outputs": [
    {
     "name": "stdout",
     "output_type": "stream",
     "text": [
      "{2}\n"
     ]
    }
   ],
   "source": [
    "print(x)"
   ]
  },
  {
   "cell_type": "code",
   "execution_count": 12,
   "id": "bb394649",
   "metadata": {},
   "outputs": [
    {
     "data": {
      "text/plain": [
       "set"
      ]
     },
     "execution_count": 12,
     "metadata": {},
     "output_type": "execute_result"
    }
   ],
   "source": [
    "type(x)"
   ]
  },
  {
   "cell_type": "code",
   "execution_count": 13,
   "id": "fd590e38",
   "metadata": {},
   "outputs": [],
   "source": [
    "s = {\n",
    "    'name':'xyz'\n",
    "}"
   ]
  },
  {
   "cell_type": "code",
   "execution_count": 14,
   "id": "0156d347",
   "metadata": {},
   "outputs": [
    {
     "ename": "SyntaxError",
     "evalue": "invalid syntax (<ipython-input-14-0afc37dde2db>, line 1)",
     "output_type": "error",
     "traceback": [
      "\u001b[1;36m  File \u001b[1;32m\"<ipython-input-14-0afc37dde2db>\"\u001b[1;36m, line \u001b[1;32m1\u001b[0m\n\u001b[1;33m    s={'name':}\u001b[0m\n\u001b[1;37m              ^\u001b[0m\n\u001b[1;31mSyntaxError\u001b[0m\u001b[1;31m:\u001b[0m invalid syntax\n"
     ]
    }
   ],
   "source": [
    "s={'name':}"
   ]
  },
  {
   "cell_type": "code",
   "execution_count": 15,
   "id": "285c470c",
   "metadata": {},
   "outputs": [],
   "source": [
    "s = {'name':\"      \"}"
   ]
  },
  {
   "cell_type": "code",
   "execution_count": 16,
   "id": "0b562739",
   "metadata": {},
   "outputs": [
    {
     "data": {
      "text/plain": [
       "{'name': '      '}"
      ]
     },
     "execution_count": 16,
     "metadata": {},
     "output_type": "execute_result"
    }
   ],
   "source": [
    "s"
   ]
  },
  {
   "cell_type": "code",
   "execution_count": 17,
   "id": "978b90cc",
   "metadata": {},
   "outputs": [
    {
     "data": {
      "text/plain": [
       "dict"
      ]
     },
     "execution_count": 17,
     "metadata": {},
     "output_type": "execute_result"
    }
   ],
   "source": [
    "type(s)"
   ]
  },
  {
   "cell_type": "code",
   "execution_count": 18,
   "id": "e9d76dd6",
   "metadata": {},
   "outputs": [],
   "source": [
    "s = {'name':\"\"}"
   ]
  },
  {
   "cell_type": "code",
   "execution_count": 19,
   "id": "558336ef",
   "metadata": {},
   "outputs": [
    {
     "name": "stdout",
     "output_type": "stream",
     "text": [
      "{'name': ''}\n"
     ]
    }
   ],
   "source": [
    "print(s)"
   ]
  },
  {
   "cell_type": "code",
   "execution_count": 20,
   "id": "3f60045e",
   "metadata": {},
   "outputs": [
    {
     "data": {
      "text/plain": [
       "dict"
      ]
     },
     "execution_count": 20,
     "metadata": {},
     "output_type": "execute_result"
    }
   ],
   "source": [
    "type(s)"
   ]
  },
  {
   "cell_type": "code",
   "execution_count": 21,
   "id": "c1db762b",
   "metadata": {},
   "outputs": [
    {
     "data": {
      "text/plain": [
       "{'name': 'Manohar', 'age': 21, 'city': 'UP'}"
      ]
     },
     "execution_count": 21,
     "metadata": {},
     "output_type": "execute_result"
    }
   ],
   "source": [
    "a"
   ]
  },
  {
   "cell_type": "code",
   "execution_count": 22,
   "id": "9c722b0b",
   "metadata": {},
   "outputs": [
    {
     "name": "stdout",
     "output_type": "stream",
     "text": [
      "{'name': 'Manohar', 'age': 21, 'city': 'UP'}\n"
     ]
    }
   ],
   "source": [
    "print(a)"
   ]
  },
  {
   "cell_type": "code",
   "execution_count": 23,
   "id": "d1d72c68",
   "metadata": {},
   "outputs": [
    {
     "data": {
      "text/plain": [
       "'Manohar'"
      ]
     },
     "execution_count": 23,
     "metadata": {},
     "output_type": "execute_result"
    }
   ],
   "source": [
    "#slicing\n",
    "a['name']"
   ]
  },
  {
   "cell_type": "code",
   "execution_count": 24,
   "id": "2786b961",
   "metadata": {},
   "outputs": [
    {
     "data": {
      "text/plain": [
       "21"
      ]
     },
     "execution_count": 24,
     "metadata": {},
     "output_type": "execute_result"
    }
   ],
   "source": [
    "a['age']"
   ]
  },
  {
   "cell_type": "code",
   "execution_count": 25,
   "id": "fb3306dc",
   "metadata": {},
   "outputs": [
    {
     "data": {
      "text/plain": [
       "('Manohar', 21)"
      ]
     },
     "execution_count": 25,
     "metadata": {},
     "output_type": "execute_result"
    }
   ],
   "source": [
    "a['name'],a['age']"
   ]
  },
  {
   "cell_type": "code",
   "execution_count": 26,
   "id": "f9517084",
   "metadata": {},
   "outputs": [
    {
     "ename": "KeyError",
     "evalue": "0",
     "output_type": "error",
     "traceback": [
      "\u001b[1;31m---------------------------------------------------------------------------\u001b[0m",
      "\u001b[1;31mKeyError\u001b[0m                                  Traceback (most recent call last)",
      "\u001b[1;32m<ipython-input-26-6a1284577a36>\u001b[0m in \u001b[0;36m<module>\u001b[1;34m\u001b[0m\n\u001b[1;32m----> 1\u001b[1;33m \u001b[0ma\u001b[0m\u001b[1;33m[\u001b[0m\u001b[1;36m0\u001b[0m\u001b[1;33m]\u001b[0m\u001b[1;33m\u001b[0m\u001b[1;33m\u001b[0m\u001b[0m\n\u001b[0m",
      "\u001b[1;31mKeyError\u001b[0m: 0"
     ]
    }
   ],
   "source": [
    "a[0]"
   ]
  },
  {
   "cell_type": "code",
   "execution_count": null,
   "id": "fe04d8f3",
   "metadata": {},
   "outputs": [],
   "source": [
    "a={\n",
    "    'name':'Ram',\n",
    "    'city':'Punjab',\n",
    "    'marks':12,\n",
    "    '1':'This is my address'\n",
    "}"
   ]
  },
  {
   "cell_type": "code",
   "execution_count": null,
   "id": "a71056d1",
   "metadata": {},
   "outputs": [],
   "source": [
    "a"
   ]
  },
  {
   "cell_type": "code",
   "execution_count": null,
   "id": "e3a403d6",
   "metadata": {},
   "outputs": [],
   "source": [
    "a={\n",
    "    'name':'Ram',\n",
    "    'city':'Punjab',\n",
    "    'marks':12,\n",
    "    1:'This is my address',\n",
    "    22.3:56\n",
    "}"
   ]
  },
  {
   "cell_type": "code",
   "execution_count": null,
   "id": "938de1fa",
   "metadata": {},
   "outputs": [],
   "source": [
    "a"
   ]
  },
  {
   "cell_type": "code",
   "execution_count": 27,
   "id": "1a29e286",
   "metadata": {},
   "outputs": [],
   "source": [
    "a={\n",
    "    'name':'Ram',\n",
    "    'city':'Punjab',\n",
    "    'marks':[12,77,23],\n",
    "    1:'This is my address',\n",
    "    22.3:56\n",
    "}"
   ]
  },
  {
   "cell_type": "code",
   "execution_count": 28,
   "id": "843b00e4",
   "metadata": {},
   "outputs": [
    {
     "data": {
      "text/plain": [
       "{'name': 'Ram',\n",
       " 'city': 'Punjab',\n",
       " 'marks': [12, 77, 23],\n",
       " 1: 'This is my address',\n",
       " 22.3: 56}"
      ]
     },
     "execution_count": 28,
     "metadata": {},
     "output_type": "execute_result"
    }
   ],
   "source": [
    "a"
   ]
  },
  {
   "cell_type": "code",
   "execution_count": 29,
   "id": "402ca8b8",
   "metadata": {},
   "outputs": [
    {
     "data": {
      "text/plain": [
       "[12, 77, 23]"
      ]
     },
     "execution_count": 29,
     "metadata": {},
     "output_type": "execute_result"
    }
   ],
   "source": [
    "a['marks']"
   ]
  },
  {
   "cell_type": "code",
   "execution_count": 30,
   "id": "87689506",
   "metadata": {},
   "outputs": [
    {
     "data": {
      "text/plain": [
       "77"
      ]
     },
     "execution_count": 30,
     "metadata": {},
     "output_type": "execute_result"
    }
   ],
   "source": [
    "a['marks'][1]"
   ]
  },
  {
   "cell_type": "code",
   "execution_count": 31,
   "id": "d02e725a",
   "metadata": {},
   "outputs": [
    {
     "data": {
      "text/plain": [
       "('Ram', [12, 77, 23])"
      ]
     },
     "execution_count": 31,
     "metadata": {},
     "output_type": "execute_result"
    }
   ],
   "source": [
    "a['name'],a['marks']"
   ]
  },
  {
   "cell_type": "code",
   "execution_count": 32,
   "id": "05f14921",
   "metadata": {},
   "outputs": [
    {
     "data": {
      "text/plain": [
       "('Ram', 77)"
      ]
     },
     "execution_count": 32,
     "metadata": {},
     "output_type": "execute_result"
    }
   ],
   "source": [
    "a['name'],a['marks'][1]"
   ]
  },
  {
   "cell_type": "code",
   "execution_count": 33,
   "id": "ce2623f6",
   "metadata": {},
   "outputs": [],
   "source": [
    "a={\n",
    "    'name':['Ram','Manohar','Shyam'],\n",
    "    'city':'Punjab',\n",
    "    'marks':[12,77,23],\n",
    "    1:'This is my address',\n",
    "    22.3:56,\n",
    "    'x' :{\n",
    "        'job':['IT',\"Mech\",\"Business\"]\n",
    "    },\n",
    "    'y':{\n",
    "        'xyz':123\n",
    "    }\n",
    "}"
   ]
  },
  {
   "cell_type": "code",
   "execution_count": 34,
   "id": "cc41fa51",
   "metadata": {},
   "outputs": [
    {
     "data": {
      "text/plain": [
       "'IT'"
      ]
     },
     "execution_count": 34,
     "metadata": {},
     "output_type": "execute_result"
    }
   ],
   "source": [
    "a['x']['job'][0]"
   ]
  },
  {
   "cell_type": "code",
   "execution_count": 35,
   "id": "4db2e1b1",
   "metadata": {},
   "outputs": [
    {
     "data": {
      "text/plain": [
       "({'job': ['IT', 'Mech', 'Business']}, {'xyz': 123})"
      ]
     },
     "execution_count": 35,
     "metadata": {},
     "output_type": "execute_result"
    }
   ],
   "source": [
    "a['x'],a['y']"
   ]
  },
  {
   "cell_type": "code",
   "execution_count": 36,
   "id": "5ecd8829",
   "metadata": {},
   "outputs": [
    {
     "data": {
      "text/plain": [
       "{'name': ['Ram', 'Manohar', 'Shyam'],\n",
       " 'city': 'Punjab',\n",
       " 'marks': [12, 77, 23],\n",
       " 1: 'This is my address',\n",
       " 22.3: 56,\n",
       " 'x': {'job': ['IT', 'Mech', 'Business']},\n",
       " 'y': {'xyz': 123}}"
      ]
     },
     "execution_count": 36,
     "metadata": {},
     "output_type": "execute_result"
    }
   ],
   "source": [
    "a"
   ]
  },
  {
   "cell_type": "code",
   "execution_count": 37,
   "id": "f7731707",
   "metadata": {},
   "outputs": [
    {
     "data": {
      "text/plain": [
       "['Ram', 'Manohar', 'Shyam']"
      ]
     },
     "execution_count": 37,
     "metadata": {},
     "output_type": "execute_result"
    }
   ],
   "source": [
    "a['name']"
   ]
  },
  {
   "cell_type": "code",
   "execution_count": 40,
   "id": "943aedfe",
   "metadata": {},
   "outputs": [
    {
     "data": {
      "text/plain": [
       "dict_keys(['name', 'city', 'marks', 1, 22.3, 'x', 'y'])"
      ]
     },
     "execution_count": 40,
     "metadata": {},
     "output_type": "execute_result"
    }
   ],
   "source": [
    "#key\n",
    "#value\n",
    "a.keys()"
   ]
  },
  {
   "cell_type": "code",
   "execution_count": 41,
   "id": "ef7859fa",
   "metadata": {},
   "outputs": [
    {
     "data": {
      "text/plain": [
       "dict_values([['Ram', 'Manohar', 'Shyam'], 'Punjab', [12, 77, 23], 'This is my address', 56, {'job': ['IT', 'Mech', 'Business']}, {'xyz': 123}])"
      ]
     },
     "execution_count": 41,
     "metadata": {},
     "output_type": "execute_result"
    }
   ],
   "source": [
    "a.values()"
   ]
  },
  {
   "cell_type": "code",
   "execution_count": null,
   "id": "7875846d",
   "metadata": {},
   "outputs": [],
   "source": []
  }
 ],
 "metadata": {
  "kernelspec": {
   "display_name": "Python 3",
   "language": "python",
   "name": "python3"
  },
  "language_info": {
   "codemirror_mode": {
    "name": "ipython",
    "version": 3
   },
   "file_extension": ".py",
   "mimetype": "text/x-python",
   "name": "python",
   "nbconvert_exporter": "python",
   "pygments_lexer": "ipython3",
   "version": "3.8.8"
  }
 },
 "nbformat": 4,
 "nbformat_minor": 5
}
