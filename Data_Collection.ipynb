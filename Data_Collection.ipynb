{
 "cells": [
  {
   "cell_type": "code",
   "execution_count": 1,
   "id": "5d1e21ab",
   "metadata": {},
   "outputs": [],
   "source": [
    "# Find first 10 prime number.\n",
    "# Find prime num between 0-50."
   ]
  },
  {
   "cell_type": "code",
   "execution_count": 2,
   "id": "ed049880",
   "metadata": {},
   "outputs": [
    {
     "name": "stdout",
     "output_type": "stream",
     "text": [
      "310\n"
     ]
    }
   ],
   "source": [
    "a=10,'ankit'\n",
    "a=(a+300)\n",
    "print(a)"
   ]
  },
  {
   "cell_type": "code",
   "execution_count": 3,
   "id": "59a69cbe",
   "metadata": {},
   "outputs": [],
   "source": [
    "#DataCollection/Data Type\n",
    "#List\n",
    "#Tuple\n",
    "#Dict.\n",
    "#Set\n",
    "a=[1,2,3,'sumit',True,22.34]"
   ]
  },
  {
   "cell_type": "code",
   "execution_count": 4,
   "id": "e7f6e2a9",
   "metadata": {},
   "outputs": [
    {
     "data": {
      "text/plain": [
       "[1, 2, 3, 'sumit', True, 22.34]"
      ]
     },
     "execution_count": 4,
     "metadata": {},
     "output_type": "execute_result"
    }
   ],
   "source": [
    "a"
   ]
  },
  {
   "cell_type": "code",
   "execution_count": 5,
   "id": "ab72fe9b",
   "metadata": {},
   "outputs": [
    {
     "data": {
      "text/plain": [
       "list"
      ]
     },
     "execution_count": 5,
     "metadata": {},
     "output_type": "execute_result"
    }
   ],
   "source": [
    "type(a)"
   ]
  },
  {
   "cell_type": "code",
   "execution_count": 6,
   "id": "a98c85bc",
   "metadata": {},
   "outputs": [],
   "source": [
    "a = [22.3,33.676875,'ankit']"
   ]
  },
  {
   "cell_type": "code",
   "execution_count": 7,
   "id": "b3e8b4bf",
   "metadata": {},
   "outputs": [
    {
     "data": {
      "text/plain": [
       "[22.3, 33.676875, 'ankit']"
      ]
     },
     "execution_count": 7,
     "metadata": {},
     "output_type": "execute_result"
    }
   ],
   "source": [
    "a"
   ]
  },
  {
   "cell_type": "code",
   "execution_count": 9,
   "id": "001414fd",
   "metadata": {},
   "outputs": [],
   "source": [
    "x = ['aa',22,4.3,'##','%%']"
   ]
  },
  {
   "cell_type": "code",
   "execution_count": 10,
   "id": "0be2be1d",
   "metadata": {},
   "outputs": [
    {
     "data": {
      "text/plain": [
       "['aa', 22, 4.3, '##', '%%']"
      ]
     },
     "execution_count": 10,
     "metadata": {},
     "output_type": "execute_result"
    }
   ],
   "source": [
    "x"
   ]
  },
  {
   "cell_type": "code",
   "execution_count": 11,
   "id": "bdc0c532",
   "metadata": {},
   "outputs": [
    {
     "data": {
      "text/plain": [
       "list"
      ]
     },
     "execution_count": 11,
     "metadata": {},
     "output_type": "execute_result"
    }
   ],
   "source": [
    "type(x)"
   ]
  },
  {
   "cell_type": "code",
   "execution_count": 12,
   "id": "6310756d",
   "metadata": {},
   "outputs": [],
   "source": [
    "s = [123,234,'yash','no',True,False,22.7890]"
   ]
  },
  {
   "cell_type": "code",
   "execution_count": 13,
   "id": "4e9b8123",
   "metadata": {},
   "outputs": [
    {
     "data": {
      "text/plain": [
       "[123, 234, 'yash', 'no', True, False, 22.789]"
      ]
     },
     "execution_count": 13,
     "metadata": {},
     "output_type": "execute_result"
    }
   ],
   "source": [
    "s"
   ]
  },
  {
   "cell_type": "code",
   "execution_count": 14,
   "id": "117c7582",
   "metadata": {},
   "outputs": [
    {
     "data": {
      "text/plain": [
       "list"
      ]
     },
     "execution_count": 14,
     "metadata": {},
     "output_type": "execute_result"
    }
   ],
   "source": [
    "type(s)"
   ]
  },
  {
   "cell_type": "code",
   "execution_count": 15,
   "id": "434688c0",
   "metadata": {},
   "outputs": [],
   "source": [
    "#slicing\n",
    "my_list = ['Bahuballi','Joginder','Iphone']"
   ]
  },
  {
   "cell_type": "code",
   "execution_count": 16,
   "id": "bca5a951",
   "metadata": {},
   "outputs": [
    {
     "data": {
      "text/plain": [
       "['Bahuballi', 'Joginder', 'Iphone']"
      ]
     },
     "execution_count": 16,
     "metadata": {},
     "output_type": "execute_result"
    }
   ],
   "source": [
    "my_list"
   ]
  },
  {
   "cell_type": "code",
   "execution_count": 17,
   "id": "0a1cdf39",
   "metadata": {},
   "outputs": [
    {
     "data": {
      "text/plain": [
       "list"
      ]
     },
     "execution_count": 17,
     "metadata": {},
     "output_type": "execute_result"
    }
   ],
   "source": [
    "type(my_list)"
   ]
  },
  {
   "cell_type": "code",
   "execution_count": 18,
   "id": "34f8118e",
   "metadata": {},
   "outputs": [
    {
     "data": {
      "text/plain": [
       "['Bahuballi', 'Joginder', 'Iphone']"
      ]
     },
     "execution_count": 18,
     "metadata": {},
     "output_type": "execute_result"
    }
   ],
   "source": [
    "my_list"
   ]
  },
  {
   "cell_type": "code",
   "execution_count": 20,
   "id": "c26b5f65",
   "metadata": {},
   "outputs": [
    {
     "data": {
      "text/plain": [
       "'Bahuballi'"
      ]
     },
     "execution_count": 20,
     "metadata": {},
     "output_type": "execute_result"
    }
   ],
   "source": [
    "my_list[0]"
   ]
  },
  {
   "cell_type": "code",
   "execution_count": 21,
   "id": "bbf0dc80",
   "metadata": {},
   "outputs": [
    {
     "data": {
      "text/plain": [
       "['Bahuballi', 'Joginder', 'Iphone']"
      ]
     },
     "execution_count": 21,
     "metadata": {},
     "output_type": "execute_result"
    }
   ],
   "source": [
    "my_list[0:3]"
   ]
  },
  {
   "cell_type": "code",
   "execution_count": 22,
   "id": "75cffa2a",
   "metadata": {},
   "outputs": [
    {
     "data": {
      "text/plain": [
       "['Bahuballi', 'Joginder', 'Iphone']"
      ]
     },
     "execution_count": 22,
     "metadata": {},
     "output_type": "execute_result"
    }
   ],
   "source": [
    "my_list[:]"
   ]
  },
  {
   "cell_type": "code",
   "execution_count": 23,
   "id": "bb09ffc5",
   "metadata": {},
   "outputs": [
    {
     "data": {
      "text/plain": [
       "['Bahuballi', 'Joginder', 'Iphone']"
      ]
     },
     "execution_count": 23,
     "metadata": {},
     "output_type": "execute_result"
    }
   ],
   "source": [
    "my_list[0:]"
   ]
  },
  {
   "cell_type": "code",
   "execution_count": 24,
   "id": "461aa4e4",
   "metadata": {},
   "outputs": [
    {
     "data": {
      "text/plain": [
       "['Bahuballi', 'Joginder', 'Iphone']"
      ]
     },
     "execution_count": 24,
     "metadata": {},
     "output_type": "execute_result"
    }
   ],
   "source": [
    "my_list[:3]"
   ]
  },
  {
   "cell_type": "code",
   "execution_count": 25,
   "id": "eee2cb1b",
   "metadata": {},
   "outputs": [
    {
     "data": {
      "text/plain": [
       "['Bahuballi', 'Iphone']"
      ]
     },
     "execution_count": 25,
     "metadata": {},
     "output_type": "execute_result"
    }
   ],
   "source": [
    "my_list[0:3:2]"
   ]
  },
  {
   "cell_type": "code",
   "execution_count": 32,
   "id": "dda45610",
   "metadata": {},
   "outputs": [
    {
     "data": {
      "text/plain": [
       "['Iphone']"
      ]
     },
     "execution_count": 32,
     "metadata": {},
     "output_type": "execute_result"
    }
   ],
   "source": [
    "my_list[2:]"
   ]
  },
  {
   "cell_type": "code",
   "execution_count": 34,
   "id": "6fc889c1",
   "metadata": {},
   "outputs": [],
   "source": [
    "#empty list\n",
    "z = []"
   ]
  },
  {
   "cell_type": "code",
   "execution_count": 35,
   "id": "6b8c18db",
   "metadata": {},
   "outputs": [
    {
     "data": {
      "text/plain": [
       "[]"
      ]
     },
     "execution_count": 35,
     "metadata": {},
     "output_type": "execute_result"
    }
   ],
   "source": [
    "z"
   ]
  },
  {
   "cell_type": "code",
   "execution_count": 36,
   "id": "62811c49",
   "metadata": {},
   "outputs": [
    {
     "data": {
      "text/plain": [
       "list"
      ]
     },
     "execution_count": 36,
     "metadata": {},
     "output_type": "execute_result"
    }
   ],
   "source": [
    "type(z)"
   ]
  },
  {
   "cell_type": "code",
   "execution_count": 37,
   "id": "927f974c",
   "metadata": {},
   "outputs": [],
   "source": [
    "s = [2,'34','Jack','Honey Bhai']"
   ]
  },
  {
   "cell_type": "code",
   "execution_count": 38,
   "id": "31c8bfac",
   "metadata": {},
   "outputs": [
    {
     "data": {
      "text/plain": [
       "[2, '34', 'Jack', 'Honey Bhai']"
      ]
     },
     "execution_count": 38,
     "metadata": {},
     "output_type": "execute_result"
    }
   ],
   "source": [
    "s"
   ]
  },
  {
   "cell_type": "code",
   "execution_count": 39,
   "id": "8a7a1dc6",
   "metadata": {},
   "outputs": [
    {
     "data": {
      "text/plain": [
       "list"
      ]
     },
     "execution_count": 39,
     "metadata": {},
     "output_type": "execute_result"
    }
   ],
   "source": [
    "type(s)"
   ]
  },
  {
   "cell_type": "code",
   "execution_count": 41,
   "id": "2468f968",
   "metadata": {},
   "outputs": [],
   "source": [
    "s= [36,42.023]"
   ]
  },
  {
   "cell_type": "code",
   "execution_count": 42,
   "id": "464d673d",
   "metadata": {},
   "outputs": [
    {
     "data": {
      "text/plain": [
       "[36, 42.023]"
      ]
     },
     "execution_count": 42,
     "metadata": {},
     "output_type": "execute_result"
    }
   ],
   "source": [
    "s"
   ]
  },
  {
   "cell_type": "code",
   "execution_count": 43,
   "id": "a0139801",
   "metadata": {},
   "outputs": [],
   "source": [
    "s = [2,'34','Jack','Honey Bhai']"
   ]
  },
  {
   "cell_type": "code",
   "execution_count": 44,
   "id": "f161e174",
   "metadata": {},
   "outputs": [
    {
     "data": {
      "text/plain": [
       "[2, '34', 'Jack', 'Honey Bhai']"
      ]
     },
     "execution_count": 44,
     "metadata": {},
     "output_type": "execute_result"
    }
   ],
   "source": [
    "s"
   ]
  },
  {
   "cell_type": "code",
   "execution_count": 45,
   "id": "24d5be9b",
   "metadata": {},
   "outputs": [],
   "source": [
    "s[0]=5"
   ]
  },
  {
   "cell_type": "code",
   "execution_count": 46,
   "id": "03dfd4c6",
   "metadata": {},
   "outputs": [
    {
     "data": {
      "text/plain": [
       "[5, '34', 'Jack', 'Honey Bhai']"
      ]
     },
     "execution_count": 46,
     "metadata": {},
     "output_type": "execute_result"
    }
   ],
   "source": [
    "s"
   ]
  },
  {
   "cell_type": "code",
   "execution_count": 47,
   "id": "8ac02e50",
   "metadata": {},
   "outputs": [],
   "source": [
    "s[0]='Bahuballi'"
   ]
  },
  {
   "cell_type": "code",
   "execution_count": 48,
   "id": "f2f38811",
   "metadata": {},
   "outputs": [
    {
     "data": {
      "text/plain": [
       "['Bahuballi', '34', 'Jack', 'Honey Bhai']"
      ]
     },
     "execution_count": 48,
     "metadata": {},
     "output_type": "execute_result"
    }
   ],
   "source": [
    "s"
   ]
  },
  {
   "cell_type": "code",
   "execution_count": 49,
   "id": "2f96bc7d",
   "metadata": {},
   "outputs": [],
   "source": [
    "a = [10,20,[22.3,\"jethala\"],\"hello \"]"
   ]
  },
  {
   "cell_type": "code",
   "execution_count": 50,
   "id": "88e4280d",
   "metadata": {},
   "outputs": [
    {
     "data": {
      "text/plain": [
       "[10, 20, [22.3, 'jethala'], 'hello ']"
      ]
     },
     "execution_count": 50,
     "metadata": {},
     "output_type": "execute_result"
    }
   ],
   "source": [
    "a"
   ]
  },
  {
   "cell_type": "code",
   "execution_count": 51,
   "id": "1febbb9d",
   "metadata": {},
   "outputs": [],
   "source": [
    "#sort\n",
    "#append\n",
    "#reverse\n",
    "q = [22,98,6,5,77,12]"
   ]
  },
  {
   "cell_type": "code",
   "execution_count": 52,
   "id": "a7932fb7",
   "metadata": {},
   "outputs": [
    {
     "data": {
      "text/plain": [
       "[22, 98, 6, 5, 77, 12]"
      ]
     },
     "execution_count": 52,
     "metadata": {},
     "output_type": "execute_result"
    }
   ],
   "source": [
    "q"
   ]
  },
  {
   "cell_type": "code",
   "execution_count": 54,
   "id": "cb4c2d83",
   "metadata": {},
   "outputs": [],
   "source": [
    "q.sort()"
   ]
  },
  {
   "cell_type": "code",
   "execution_count": 55,
   "id": "388ae18c",
   "metadata": {},
   "outputs": [
    {
     "data": {
      "text/plain": [
       "[5, 6, 12, 22, 77, 98]"
      ]
     },
     "execution_count": 55,
     "metadata": {},
     "output_type": "execute_result"
    }
   ],
   "source": [
    "q"
   ]
  },
  {
   "cell_type": "code",
   "execution_count": 56,
   "id": "3a6da6bf",
   "metadata": {},
   "outputs": [],
   "source": [
    "#append\n",
    "q.append(23)"
   ]
  },
  {
   "cell_type": "code",
   "execution_count": 57,
   "id": "f89becad",
   "metadata": {},
   "outputs": [
    {
     "data": {
      "text/plain": [
       "[5, 6, 12, 22, 77, 98, 23]"
      ]
     },
     "execution_count": 57,
     "metadata": {},
     "output_type": "execute_result"
    }
   ],
   "source": [
    "q"
   ]
  },
  {
   "cell_type": "code",
   "execution_count": 58,
   "id": "81c1dcc8",
   "metadata": {},
   "outputs": [],
   "source": [
    "#reverse\n",
    "q.reverse()"
   ]
  },
  {
   "cell_type": "code",
   "execution_count": 59,
   "id": "4d832474",
   "metadata": {},
   "outputs": [
    {
     "data": {
      "text/plain": [
       "[23, 98, 77, 22, 12, 6, 5]"
      ]
     },
     "execution_count": 59,
     "metadata": {},
     "output_type": "execute_result"
    }
   ],
   "source": [
    "q"
   ]
  },
  {
   "cell_type": "code",
   "execution_count": null,
   "id": "2cd93160",
   "metadata": {},
   "outputs": [],
   "source": []
  }
 ],
 "metadata": {
  "kernelspec": {
   "display_name": "Python 3",
   "language": "python",
   "name": "python3"
  },
  "language_info": {
   "codemirror_mode": {
    "name": "ipython",
    "version": 3
   },
   "file_extension": ".py",
   "mimetype": "text/x-python",
   "name": "python",
   "nbconvert_exporter": "python",
   "pygments_lexer": "ipython3",
   "version": "3.8.8"
  }
 },
 "nbformat": 4,
 "nbformat_minor": 5
}
