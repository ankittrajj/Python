{
 "cells": [
  {
   "cell_type": "code",
   "execution_count": 17,
   "id": "2acf9518",
   "metadata": {},
   "outputs": [
    {
     "name": "stdout",
     "output_type": "stream",
     "text": [
      "23\n"
     ]
    }
   ],
   "source": [
    "#inheritance\n",
    "#parent & child\n",
    "# Single inhertance\n",
    "#class1\n",
    "class student1:\n",
    "    def __init__(self,name,marks):\n",
    "        self.name = name\n",
    "        self.marks = marks\n",
    "#class2       \n",
    "class students2(student1):\n",
    "    \n",
    "    def __init__(self,name,marks,age):\n",
    "        super().__init__(name,marks)\n",
    "        self.age=age\n",
    "        \n",
    "        \n",
    "#object\n",
    "stu = students2('ABX',56,23)\n",
    "print(stu.age)\n",
    "        \n"
   ]
  },
  {
   "cell_type": "code",
   "execution_count": 12,
   "id": "e8889ee1",
   "metadata": {},
   "outputs": [
    {
     "name": "stdout",
     "output_type": "stream",
     "text": [
      "ABC 23 56\n"
     ]
    }
   ],
   "source": [
    "#inheritance\n",
    "#parent & child\n",
    "# Single inhertance\n",
    "#class1\n",
    "class student1:\n",
    "    def __init__(self,name,marks):\n",
    "        self.name = name\n",
    "        self.marks = marks\n",
    "#class2       \n",
    "class students2(student1):\n",
    "    def __init__(self,name,marks,age):\n",
    "        student1.__init__(self,name,marks)\n",
    "        self.age=age\n",
    "        \n",
    "        \n",
    "#object\n",
    "stu = students2('ABC',56,23)\n",
    "print(stu.name,stu.age,stu.marks)\n",
    "        \n"
   ]
  },
  {
   "cell_type": "code",
   "execution_count": 26,
   "id": "13d50cd7",
   "metadata": {},
   "outputs": [
    {
     "name": "stdout",
     "output_type": "stream",
     "text": [
      "20\n"
     ]
    }
   ],
   "source": [
    "# Multilevel inheritance\n",
    "class grandParent:\n",
    "    def car(self,price ,color):\n",
    "        print(price)\n",
    "        print(color)\n",
    "\n",
    "class parent(grandParent):\n",
    "    def car1(self,model):\n",
    "        print(model)\n",
    "        \n",
    "class child(parent):\n",
    "    def car2(self,engine):\n",
    "        print(engine)\n",
    "\n",
    "        \n",
    "ch = child()\n",
    "ch.car2(20)\n",
    "# print(ch.price,ch.color,ch.model,ch.engine)"
   ]
  },
  {
   "cell_type": "code",
   "execution_count": 28,
   "id": "7aa3f959",
   "metadata": {},
   "outputs": [
    {
     "name": "stdout",
     "output_type": "stream",
     "text": [
      "20 Black A4 Turbo\n"
     ]
    }
   ],
   "source": [
    "# Multilevel inheritance\n",
    "class grandParent:\n",
    "    def __init__(self,price ,color):\n",
    "        self.price = price\n",
    "        self.color = color\n",
    "        \n",
    "class parent(grandParent):\n",
    "    def __init__(self,price,color,model):\n",
    "        super().__init__(price,color)\n",
    "        self.model = model\n",
    "        \n",
    "class child(parent):\n",
    "    def __init__(self,price,color,model,engine):\n",
    "        super().__init__(price,color,model)\n",
    "        self.engine = engine\n",
    "        \n",
    "\n",
    "        \n",
    "ch = child(20,\"Black\",'A4',\"Turbo\")\n",
    "print(ch.price,ch.color,ch.model,ch.engine)"
   ]
  },
  {
   "cell_type": "code",
   "execution_count": null,
   "id": "fb958c07",
   "metadata": {},
   "outputs": [],
   "source": []
  },
  {
   "cell_type": "code",
   "execution_count": null,
   "id": "0a7479d6",
   "metadata": {},
   "outputs": [],
   "source": []
  },
  {
   "cell_type": "code",
   "execution_count": null,
   "id": "30881175",
   "metadata": {},
   "outputs": [],
   "source": []
  },
  {
   "cell_type": "code",
   "execution_count": null,
   "id": "333a8883",
   "metadata": {},
   "outputs": [],
   "source": []
  },
  {
   "cell_type": "code",
   "execution_count": null,
   "id": "f00cd4ce",
   "metadata": {},
   "outputs": [],
   "source": []
  },
  {
   "cell_type": "code",
   "execution_count": null,
   "id": "8e587cb4",
   "metadata": {},
   "outputs": [],
   "source": []
  },
  {
   "cell_type": "code",
   "execution_count": null,
   "id": "a8052bee",
   "metadata": {},
   "outputs": [],
   "source": []
  }
 ],
 "metadata": {
  "kernelspec": {
   "display_name": "Python 3 (ipykernel)",
   "language": "python",
   "name": "python3"
  },
  "language_info": {
   "codemirror_mode": {
    "name": "ipython",
    "version": 3
   },
   "file_extension": ".py",
   "mimetype": "text/x-python",
   "name": "python",
   "nbconvert_exporter": "python",
   "pygments_lexer": "ipython3",
   "version": "3.9.7"
  }
 },
 "nbformat": 4,
 "nbformat_minor": 5
}
