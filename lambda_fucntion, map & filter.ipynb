{
 "cells": [
  {
   "cell_type": "code",
   "execution_count": 1,
   "id": "a8db151e",
   "metadata": {},
   "outputs": [
    {
     "data": {
      "text/plain": [
       "16"
      ]
     },
     "execution_count": 1,
     "metadata": {},
     "output_type": "execute_result"
    }
   ],
   "source": [
    "def square(x):\n",
    "    return x*x\n",
    "\n",
    "square(4)"
   ]
  },
  {
   "cell_type": "code",
   "execution_count": 3,
   "id": "50b336d9",
   "metadata": {},
   "outputs": [
    {
     "name": "stdout",
     "output_type": "stream",
     "text": [
      "11\n"
     ]
    }
   ],
   "source": [
    "a = lambda x,y:x+y\n",
    "print(a(5,6))"
   ]
  },
  {
   "cell_type": "code",
   "execution_count": 4,
   "id": "0b8e4de8",
   "metadata": {},
   "outputs": [
    {
     "data": {
      "text/plain": [
       "25"
      ]
     },
     "execution_count": 4,
     "metadata": {},
     "output_type": "execute_result"
    }
   ],
   "source": [
    "# WAP and find square of a number using lambda function\n",
    "# WAP and find cube of a number using lambda function\n",
    "\n",
    "x = lambda a:a*a\n",
    "x(5)"
   ]
  },
  {
   "cell_type": "code",
   "execution_count": 6,
   "id": "55bc326b",
   "metadata": {},
   "outputs": [
    {
     "data": {
      "text/plain": [
       "3125"
      ]
     },
     "execution_count": 6,
     "metadata": {},
     "output_type": "execute_result"
    }
   ],
   "source": [
    "x = lambda a:a**5\n",
    "x(5)"
   ]
  },
  {
   "cell_type": "code",
   "execution_count": 11,
   "id": "bf0c6bfc",
   "metadata": {},
   "outputs": [
    {
     "name": "stdout",
     "output_type": "stream",
     "text": [
      "[13, 23, 7]\n"
     ]
    }
   ],
   "source": [
    "# filter function\n",
    "age = [13,89,67,72,23,7,90]\n",
    "def adults(age):\n",
    "    if age < 60:\n",
    "        return True\n",
    "    else:\n",
    "        return False\n",
    "    \n",
    "x = list(filter(adults,age))\n",
    "print(x)"
   ]
  },
  {
   "cell_type": "code",
   "execution_count": 16,
   "id": "b454c613",
   "metadata": {},
   "outputs": [
    {
     "name": "stdout",
     "output_type": "stream",
     "text": [
      "Even num 2\n",
      "Even num 6\n",
      "ODD num 9\n",
      "Even num 10\n",
      "Even num 12\n",
      "ODD num 11\n",
      "Even num 8\n"
     ]
    }
   ],
   "source": [
    "#WAP to find odd and even number using filter function\n",
    "x = [2,6,9,10,12,11,8]\n",
    "def even(x):\n",
    "    if x%2==0:\n",
    "        print(\"Even num\",x)\n",
    "#         return True\n",
    "    else:\n",
    "        print(\"ODD num\",x)\n",
    "#         return False\n",
    "    \n",
    "a = list(filter(even,x))\n",
    "# print(a)"
   ]
  },
  {
   "cell_type": "code",
   "execution_count": 23,
   "id": "0f66d097",
   "metadata": {},
   "outputs": [
    {
     "data": {
      "text/plain": [
       "[13, 23, 7]"
      ]
     },
     "execution_count": 23,
     "metadata": {},
     "output_type": "execute_result"
    }
   ],
   "source": [
    "a = [13,89,67,72,23,7,90]\n",
    "x = list(filter(lambda a :a<60,a))\n",
    "x"
   ]
  },
  {
   "cell_type": "code",
   "execution_count": null,
   "id": "4bbb53c5",
   "metadata": {},
   "outputs": [],
   "source": []
  }
 ],
 "metadata": {
  "kernelspec": {
   "display_name": "Python 3 (ipykernel)",
   "language": "python",
   "name": "python3"
  },
  "language_info": {
   "codemirror_mode": {
    "name": "ipython",
    "version": 3
   },
   "file_extension": ".py",
   "mimetype": "text/x-python",
   "name": "python",
   "nbconvert_exporter": "python",
   "pygments_lexer": "ipython3",
   "version": "3.9.7"
  }
 },
 "nbformat": 4,
 "nbformat_minor": 5
}
