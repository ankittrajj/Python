{
 "cells": [
  {
   "cell_type": "code",
   "execution_count": 1,
   "id": "39daae21",
   "metadata": {},
   "outputs": [
    {
     "name": "stdout",
     "output_type": "stream",
     "text": [
      "\n"
     ]
    },
    {
     "data": {
      "text/plain": [
       "<__main__.hites at 0x1fe50e71250>"
      ]
     },
     "execution_count": 1,
     "metadata": {},
     "output_type": "execute_result"
    }
   ],
   "source": [
    "class hites:\n",
    "    print(\"\")\n",
    "    \n",
    "hites()"
   ]
  },
  {
   "cell_type": "code",
   "execution_count": 8,
   "id": "3676ad6a",
   "metadata": {},
   "outputs": [
    {
     "name": "stdout",
     "output_type": "stream",
     "text": [
      "Ram\n"
     ]
    }
   ],
   "source": [
    "class student:\n",
    "    def details(self):\n",
    "        print(\"Ram\")\n",
    "        \n",
    "        \n",
    "s = student()\n",
    "s.details()\n",
    "# print(s)\n",
    "    "
   ]
  },
  {
   "cell_type": "code",
   "execution_count": 19,
   "id": "58637b14",
   "metadata": {},
   "outputs": [
    {
     "name": "stdout",
     "output_type": "stream",
     "text": [
      "name Ram\n",
      "ide 12\n"
     ]
    }
   ],
   "source": [
    "class emp:\n",
    "    def details(self,name,ide):\n",
    "        print('name',name)\n",
    "        print('ide',ide)\n",
    "        \n",
    "e = emp()\n",
    "e.details('Ram',12)\n",
    "# print(e.name)\n",
    "# print(e.ide)"
   ]
  },
  {
   "cell_type": "code",
   "execution_count": 20,
   "id": "be494555",
   "metadata": {},
   "outputs": [
    {
     "name": "stdout",
     "output_type": "stream",
     "text": [
      "total_student 2000\n",
      "total_staff 120\n"
     ]
    }
   ],
   "source": [
    "class sch:\n",
    "    def detail(self,total_students,total_staff):\n",
    "        print('total_student',total_students)\n",
    "        print('total_staff',total_staff)\n",
    "        \n",
    "        \n",
    "x = sch()\n",
    "x.detail(2000,120)"
   ]
  },
  {
   "cell_type": "code",
   "execution_count": 36,
   "id": "401e93f9",
   "metadata": {},
   "outputs": [
    {
     "name": "stdout",
     "output_type": "stream",
     "text": [
      "Ram\n",
      "22\n",
      "Eng\n",
      "Shyam\n",
      "23\n",
      "History\n"
     ]
    }
   ],
   "source": [
    "class stud:\n",
    "    def details(self,name,marks,sub):\n",
    "#         name = ['Ram','Shyam']\n",
    "#         marks = [22,32]\n",
    "#         sub = ['English','Hindi']\n",
    "          i=0\n",
    "          while (i<=len(name)-1):\n",
    "#             return(name[i],marks[i],sub[i])\n",
    "            print(name[i])\n",
    "            print(marks[i])\n",
    "            print(sub[i])\n",
    "            i+=1\n",
    "s = stud()\n",
    "s.details(['Ram','Shyam'],[22,23],['Eng','History'])\n"
   ]
  },
  {
   "cell_type": "code",
   "execution_count": 22,
   "id": "14e3cf75",
   "metadata": {},
   "outputs": [
    {
     "name": "stdout",
     "output_type": "stream",
     "text": [
      "marks 99\n",
      "name ram\n",
      "subject maths\n",
      "marks 100\n",
      "name shyam\n",
      "subject english\n"
     ]
    }
   ],
   "source": [
    "class student():\n",
    "  def details(self,marks,name,subject):\n",
    "    print('marks', marks)\n",
    "    print('name',name)\n",
    "    print('subject',subject)\n",
    "d=student()\n",
    "m=student()\n",
    "d.details(99,'ram','maths')\n",
    "m.details(100,'shyam','english')\n"
   ]
  },
  {
   "cell_type": "code",
   "execution_count": 29,
   "id": "848f4c0a",
   "metadata": {},
   "outputs": [
    {
     "name": "stdout",
     "output_type": "stream",
     "text": [
      "nandini 50 hindi\n",
      "addi 40 english\n"
     ]
    }
   ],
   "source": [
    "class student:\n",
    "    def dtails(self, name, marks, subject):\n",
    "        print(name, marks, subject)\n",
    "x = student()\n",
    "x.dtails('nandini', 50, 'hindi')\n",
    "x.dtails('addi', 40, 'english')\n"
   ]
  },
  {
   "cell_type": "code",
   "execution_count": 30,
   "id": "c2b4bb15",
   "metadata": {},
   "outputs": [
    {
     "data": {
      "text/plain": [
       "3"
      ]
     },
     "execution_count": 30,
     "metadata": {},
     "output_type": "execute_result"
    }
   ],
   "source": [
    "a = 'Ram'\n",
    "len(a)"
   ]
  },
  {
   "cell_type": "code",
   "execution_count": 1,
   "id": "412d0112",
   "metadata": {},
   "outputs": [
    {
     "name": "stdout",
     "output_type": "stream",
     "text": [
      "<__main__.car object at 0x000001CC667ABF10>\n"
     ]
    }
   ],
   "source": [
    "class car(object):\n",
    "    pass\n",
    "\n",
    "c = car()\n",
    "print(c)"
   ]
  },
  {
   "cell_type": "code",
   "execution_count": 2,
   "id": "5f83de1d",
   "metadata": {},
   "outputs": [
    {
     "name": "stdout",
     "output_type": "stream",
     "text": [
      "<__main__.car object at 0x000001CC66721310>\n"
     ]
    }
   ],
   "source": [
    "class car():\n",
    "    pass\n",
    "\n",
    "c = car()\n",
    "print(c)"
   ]
  },
  {
   "cell_type": "code",
   "execution_count": 3,
   "id": "b27a6140",
   "metadata": {},
   "outputs": [
    {
     "name": "stdout",
     "output_type": "stream",
     "text": [
      "My car model is : A6\n",
      "The color is :  Blue\n"
     ]
    }
   ],
   "source": [
    "class car():\n",
    "    def info(self,model,color):\n",
    "        print(\"My car model is :\",model)\n",
    "        print(\"The color is : \",color)\n",
    "\n",
    "c = car()\n",
    "c.info('A6','Blue')\n",
    "# print(c)"
   ]
  },
  {
   "cell_type": "code",
   "execution_count": 9,
   "id": "cdd3ef66",
   "metadata": {},
   "outputs": [
    {
     "name": "stdout",
     "output_type": "stream",
     "text": [
      "xyz abc\n"
     ]
    }
   ],
   "source": [
    "#constructor\n",
    "class car():\n",
    "    def __init__(self,name,color):\n",
    "        self.name = name\n",
    "        self.color = color\n",
    "        \n",
    "        \n",
    "c1 = car('xyz','abc')\n",
    "print(c1.name,c1.color)"
   ]
  },
  {
   "cell_type": "code",
   "execution_count": 15,
   "id": "bc085793",
   "metadata": {},
   "outputs": [
    {
     "name": "stdout",
     "output_type": "stream",
     "text": [
      "ram\n"
     ]
    }
   ],
   "source": [
    "class student:\n",
    "    def __init__(self,name,marks,city):\n",
    "#         return self.name = 'Ram'\n",
    "#     return \n",
    "        self.name = name\n",
    "        self.marks = marks\n",
    "        self.city = city\n",
    "\n",
    "        \n",
    "s1 = student('ram',12,'Noida')\n",
    "print(s1.name)"
   ]
  },
  {
   "cell_type": "code",
   "execution_count": 19,
   "id": "73a31883",
   "metadata": {},
   "outputs": [
    {
     "name": "stdout",
     "output_type": "stream",
     "text": [
      "ram 4 maths 50\n"
     ]
    }
   ],
   "source": [
    "class stu:\n",
    "   def __init__(self,name,standard,sub,marks):\n",
    "      self.name=name\n",
    "      self.standard=standard\n",
    "      self.sub=sub\n",
    "      self.marks=marks\n",
    "    \n",
    "    \n",
    "    \n",
    "e=stu('ram', 4,'maths',50)\n",
    "print(e.name,e.standard,e.sub,e.marks)\n"
   ]
  },
  {
   "cell_type": "code",
   "execution_count": null,
   "id": "cf49d151",
   "metadata": {},
   "outputs": [],
   "source": []
  }
 ],
 "metadata": {
  "kernelspec": {
   "display_name": "Python 3 (ipykernel)",
   "language": "python",
   "name": "python3"
  },
  "language_info": {
   "codemirror_mode": {
    "name": "ipython",
    "version": 3
   },
   "file_extension": ".py",
   "mimetype": "text/x-python",
   "name": "python",
   "nbconvert_exporter": "python",
   "pygments_lexer": "ipython3",
   "version": "3.9.7"
  }
 },
 "nbformat": 4,
 "nbformat_minor": 5
}
